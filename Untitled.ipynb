{
 "cells": [
  {
   "cell_type": "code",
   "execution_count": null,
   "id": "f2661eee",
   "metadata": {
    "scrolled": true
   },
   "outputs": [],
   "source": [
    "high_schools = [\"Hernandez High School\",\"Figueroa High School\",\"Wilson High School\",\n",
    "                \"Wright High School\"]\n",
    "\n",
    "for school in high_schools:\n",
    "    print(school)"
   ]
  },
  {
   "cell_type": "code",
   "execution_count": null,
   "id": "d78e5ae7",
   "metadata": {},
   "outputs": [],
   "source": [
    "# A dictionary of high schools and the type of school.\n",
    "high_school_types = [{\"High School\": \"Griffin\", \"Type\":\"District\"},\n",
    "                    {\"High School\": \"Figueroa\", \"Type\": \"District\"},\n",
    "                    {\"High School\": \"Wilson\", \"Type\": \"Charter\"},\n",
    "                    {\"High School\": \"Wright\", \"Type\": \"Charter\"}]\n",
    "\n",
    "for type in high_school_types:\n",
    "    print(type)"
   ]
  },
  {
   "cell_type": "code",
   "execution_count": 5,
   "id": "45196c6c",
   "metadata": {},
   "outputs": [
    {
     "name": "stdout",
     "output_type": "stream",
     "text": [
      "Huang High School\n",
      "Figueroa High School\n",
      "Shelton High School\n",
      "Hernandez High School\n",
      "Griffin High School\n",
      "Wilson High School\n",
      "Cabrera High School\n",
      "Bailey High School\n",
      "Holden High School\n",
      "Pena High School\n",
      "Wright High School\n",
      "Rodriguez High School\n",
      "Johnson High School\n",
      "Ford High School\n",
      "Thomas High School\n"
     ]
    }
   ],
   "source": [
    "# List of high schools\n",
    "high_schools = [\"Huang High School\",  \"Figueroa High School\", \"Shelton High School\",\n",
    "                \"Hernandez High School\",\"Griffin High School\",\"Wilson High School\",\n",
    "                \"Cabrera High School\", \"Bailey High School\", \"Holden High School\", \"Pena High School\",\n",
    "                \"Wright High School\",\"Rodriguez High School\", \"Johnson High School\", \"Ford High School\",\n",
    "                \"Thomas High School\"]\n",
    "\n",
    "# Add the Pandas dependency.\n",
    "import pandas as pd\n",
    "#Create a Pandas Series for the list of high schools\n",
    "school_series = pd.Series(high_schools)\n",
    "# school_series\n",
    "\n",
    "for serie in high_schools:\n",
    "    print(serie)"
   ]
  },
  {
   "cell_type": "code",
   "execution_count": null,
   "id": "41698354",
   "metadata": {},
   "outputs": [],
   "source": []
  }
 ],
 "metadata": {
  "kernelspec": {
   "display_name": "Python 3",
   "language": "python",
   "name": "python3"
  },
  "language_info": {
   "codemirror_mode": {
    "name": "ipython",
    "version": 3
   },
   "file_extension": ".py",
   "mimetype": "text/x-python",
   "name": "python",
   "nbconvert_exporter": "python",
   "pygments_lexer": "ipython3",
   "version": "3.8.8"
  }
 },
 "nbformat": 4,
 "nbformat_minor": 5
}
